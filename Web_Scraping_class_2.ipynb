{
 "cells": [
  {
   "cell_type": "code",
   "execution_count": 1,
   "metadata": {},
   "outputs": [],
   "source": [
    "import requests\n",
    "from bs4 import BeautifulSoup as bs\n",
    "import csv"
   ]
  },
  {
   "cell_type": "code",
   "execution_count": null,
   "metadata": {},
   "outputs": [],
   "source": [
    "response = requests.get(\"https://pk.sapphireonline.pk/\")\n",
    "soup = bs(response.text, 'html.parser')\n",
    "\n",
    "nav = soup.find_all('li', {'class' : 'menu-item'})\n",
    "\n",
    "for link in nav:\n",
    "    try:\n",
    "        # Getting Categories Link\n",
    "        link = \"https://pk.sapphireonline.pk\" + link.a['href']\n",
    "        response = requests.get(link)\n",
    "        soup = bs(response.text, 'html.parser')\n",
    "        \n",
    "        # Getting Products Link\n",
    "        div = soup.find_all('div', {'class' : 'product-inner pr'})\n",
    "        \n",
    "        \n",
    "        \n",
    "    \n",
    "    except ConnectionError:\n",
    "        print(\"URL is not okay\")\n",
    "\n",
    "\n"
   ]
  }
 ],
 "metadata": {
  "kernelspec": {
   "display_name": "Python 3",
   "language": "python",
   "name": "python3"
  },
  "language_info": {
   "codemirror_mode": {
    "name": "ipython",
    "version": 3
   },
   "file_extension": ".py",
   "mimetype": "text/x-python",
   "name": "python",
   "nbconvert_exporter": "python",
   "pygments_lexer": "ipython3",
   "version": "3.8.5"
  }
 },
 "nbformat": 4,
 "nbformat_minor": 4
}
