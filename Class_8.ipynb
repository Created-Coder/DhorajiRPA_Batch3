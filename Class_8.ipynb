{
 "cells": [
  {
   "cell_type": "code",
   "execution_count": 8,
   "id": "a1b30512",
   "metadata": {},
   "outputs": [],
   "source": [
    "# List of Dictionaries\n",
    "\n",
    "listofDict = [\n",
    "    {\n",
    "        'name' : 'hadi',\n",
    "        'course' : 'RPA',\n",
    "        'roll no' : 1\n",
    "    },\n",
    "    \n",
    "    {\n",
    "        'name' : 'hammad',\n",
    "        'course' : 'RPA',\n",
    "        'roll no' : '02'\n",
    "    },\n",
    "    \n",
    "    {\n",
    "        'name' : 'mehmood',\n",
    "        'course' : 'RPA',\n",
    "        'roll no' : '03'\n",
    "    }\n",
    "]\n"
   ]
  },
  {
   "cell_type": "code",
   "execution_count": 11,
   "id": "6b2ea1c0",
   "metadata": {},
   "outputs": [
    {
     "data": {
      "text/plain": [
       "'02'"
      ]
     },
     "execution_count": 11,
     "metadata": {},
     "output_type": "execute_result"
    }
   ],
   "source": [
    "listofDict[1]['roll no']"
   ]
  },
  {
   "cell_type": "code",
   "execution_count": 13,
   "id": "c8b98827",
   "metadata": {},
   "outputs": [],
   "source": [
    "assignment = [\n",
    "    {\n",
    "        'abc' : [1, 2 , {\n",
    "            'a' : \"Congratulationss, You got me\"\n",
    "        }]\n",
    "    }\n",
    "]\n"
   ]
  },
  {
   "cell_type": "code",
   "execution_count": 26,
   "id": "94e56ae3",
   "metadata": {},
   "outputs": [
    {
     "data": {
      "text/plain": [
       "'Congratulationss, You got me'"
      ]
     },
     "execution_count": 26,
     "metadata": {},
     "output_type": "execute_result"
    }
   ],
   "source": [
    "assignment[0]['abc'][2]['a']"
   ]
  },
  {
   "cell_type": "code",
   "execution_count": 28,
   "id": "398671fb",
   "metadata": {},
   "outputs": [],
   "source": [
    "newDict = {\n",
    "    'name' : 'owais',\n",
    "    'course' : 'RPA',\n",
    "    'roll no' : '04'\n",
    "}"
   ]
  },
  {
   "cell_type": "code",
   "execution_count": 29,
   "id": "5933279c",
   "metadata": {},
   "outputs": [
    {
     "data": {
      "text/plain": [
       "{'name': 'owais', 'course': 'RPA', 'roll no': '04'}"
      ]
     },
     "execution_count": 29,
     "metadata": {},
     "output_type": "execute_result"
    }
   ],
   "source": [
    "newDict"
   ]
  },
  {
   "cell_type": "code",
   "execution_count": 31,
   "id": "42e4c4b6",
   "metadata": {},
   "outputs": [],
   "source": [
    "listofDict.append(newDict)"
   ]
  },
  {
   "cell_type": "code",
   "execution_count": 34,
   "id": "ea94c59a",
   "metadata": {},
   "outputs": [],
   "source": [
    "listofDict.append(2)"
   ]
  },
  {
   "cell_type": "code",
   "execution_count": 45,
   "id": "b0147e17",
   "metadata": {},
   "outputs": [],
   "source": [
    "# Dictionary of List\n",
    "\n",
    "dictofList = {\n",
    "    'key' : [1, 2, 3, 4],\n",
    "    \n",
    "    #--------------------------\n",
    "    'key2' : [11, 22, {\n",
    "        'b' : [55, 77, 88]    \n",
    "    }\n",
    "              \n",
    "    #--------------------------         \n",
    "    ,\n",
    "              \n",
    "    #--------------------------\n",
    "              \n",
    "    44\n",
    "             ]\n",
    "}"
   ]
  },
  {
   "cell_type": "code",
   "execution_count": 50,
   "id": "9711f6f7",
   "metadata": {},
   "outputs": [
    {
     "data": {
      "text/plain": [
       "dict"
      ]
     },
     "execution_count": 50,
     "metadata": {},
     "output_type": "execute_result"
    }
   ],
   "source": [
    "type(dictofList['key2'][2])"
   ]
  },
  {
   "cell_type": "code",
   "execution_count": 52,
   "id": "d9163efa",
   "metadata": {},
   "outputs": [
    {
     "data": {
      "text/plain": [
       "77"
      ]
     },
     "execution_count": 52,
     "metadata": {},
     "output_type": "execute_result"
    }
   ],
   "source": [
    "dictofList['key2'][2]['b'][1]"
   ]
  },
  {
   "cell_type": "code",
   "execution_count": 53,
   "id": "30b19c7f",
   "metadata": {},
   "outputs": [],
   "source": [
    "# Dictionary of Dictionaries"
   ]
  },
  {
   "cell_type": "code",
   "execution_count": 56,
   "id": "601479e3",
   "metadata": {},
   "outputs": [],
   "source": [
    "dictofDict = {\n",
    "    'dict1' : {\n",
    "        'name' : 'abc'\n",
    "    },\n",
    "    \n",
    "    'dict2' : {\n",
    "        'name' : 'xyz'\n",
    "    },\n",
    "    \n",
    "    'dict3' : {\n",
    "        'name' : 'ijk'\n",
    "    }\n",
    "}"
   ]
  },
  {
   "cell_type": "code",
   "execution_count": 59,
   "id": "cda4effa",
   "metadata": {},
   "outputs": [
    {
     "data": {
      "text/plain": [
       "dict"
      ]
     },
     "execution_count": 59,
     "metadata": {},
     "output_type": "execute_result"
    }
   ],
   "source": [
    "type(dictofDict)"
   ]
  },
  {
   "cell_type": "code",
   "execution_count": 61,
   "id": "f2816a74",
   "metadata": {},
   "outputs": [
    {
     "data": {
      "text/plain": [
       "'xyz'"
      ]
     },
     "execution_count": 61,
     "metadata": {},
     "output_type": "execute_result"
    }
   ],
   "source": [
    "dictofDict['dict2']['name']"
   ]
  },
  {
   "cell_type": "code",
   "execution_count": 66,
   "id": "9783bb06",
   "metadata": {},
   "outputs": [],
   "source": [
    "classWork = [\n",
    "    'Salman',\n",
    "    'Age',\n",
    "    {\n",
    "    'Subject' : ['English', 'Math', ['Phy 1', 'Phy2']],\n",
    "    'marks' : {\n",
    "        'Marks 1' : {'English' : 60},\n",
    "        'Marks 2' : {'Math' : 50},\n",
    "        'Marks 3' : {'Phy 1' : 70, 'Phy 2' : 80}\n",
    "    }\n",
    "\n",
    "    }\n",
    "]"
   ]
  },
  {
   "cell_type": "code",
   "execution_count": null,
   "id": "240d6d11",
   "metadata": {},
   "outputs": [],
   "source": []
  }
 ],
 "metadata": {
  "kernelspec": {
   "display_name": "Python 3 (ipykernel)",
   "language": "python",
   "name": "python3"
  },
  "language_info": {
   "codemirror_mode": {
    "name": "ipython",
    "version": 3
   },
   "file_extension": ".py",
   "mimetype": "text/x-python",
   "name": "python",
   "nbconvert_exporter": "python",
   "pygments_lexer": "ipython3",
   "version": "3.9.7"
  }
 },
 "nbformat": 4,
 "nbformat_minor": 5
}
