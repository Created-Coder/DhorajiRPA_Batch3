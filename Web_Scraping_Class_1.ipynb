{
 "cells": [
  {
   "cell_type": "code",
   "execution_count": 2,
   "metadata": {},
   "outputs": [],
   "source": [
    "import requests\n",
    "from bs4 import BeautifulSoup as bs"
   ]
  },
  {
   "cell_type": "code",
   "execution_count": 3,
   "metadata": {},
   "outputs": [],
   "source": [
    "response = requests.get(\"https://pk.sapphireonline.pk/collections/new-in\")"
   ]
  },
  {
   "cell_type": "code",
   "execution_count": 4,
   "metadata": {},
   "outputs": [],
   "source": [
    "soup = bs(response.text, 'html.parser')"
   ]
  },
  {
   "cell_type": "code",
   "execution_count": 5,
   "metadata": {},
   "outputs": [],
   "source": [
    "# Find"
   ]
  },
  {
   "cell_type": "code",
   "execution_count": 6,
   "metadata": {},
   "outputs": [],
   "source": [
    "# Find_ALL"
   ]
  },
  {
   "cell_type": "code",
   "execution_count": 7,
   "metadata": {},
   "outputs": [],
   "source": [
    "div = soup.find_all('div', {'class' : 'product-inner pr'})"
   ]
  },
  {
   "cell_type": "code",
   "execution_count": 35,
   "metadata": {},
   "outputs": [
    {
     "name": "stdout",
     "output_type": "stream",
     "text": [
      "Getting URL : https://pk.sapphireonline.pk/collections/new-in/products/u3e-dy22v5-8b-1\n",
      "Title: 3 Piece - Embroidered Cotton Suit\n"
     ]
    },
    {
     "ename": "TypeError",
     "evalue": "can only concatenate str (not \"NoneType\") to str",
     "output_type": "error",
     "traceback": [
      "\u001b[1;31m---------------------------------------------------------------------------\u001b[0m",
      "\u001b[1;31mTypeError\u001b[0m                                 Traceback (most recent call last)",
      "\u001b[1;32m<ipython-input-35-d6205039ac2a>\u001b[0m in \u001b[0;36m<module>\u001b[1;34m\u001b[0m\n\u001b[0;32m     10\u001b[0m     \u001b[0mprint\u001b[0m\u001b[1;33m(\u001b[0m\u001b[1;34m\"Title: \"\u001b[0m\u001b[1;33m+\u001b[0m\u001b[0mheadings\u001b[0m\u001b[1;33m)\u001b[0m\u001b[1;33m\u001b[0m\u001b[1;33m\u001b[0m\u001b[0m\n\u001b[0;32m     11\u001b[0m     \u001b[0mprice\u001b[0m \u001b[1;33m=\u001b[0m \u001b[0mprdPage\u001b[0m\u001b[1;33m.\u001b[0m\u001b[0mfind\u001b[0m\u001b[1;33m(\u001b[0m\u001b[1;34m'span'\u001b[0m\u001b[1;33m,\u001b[0m \u001b[1;33m{\u001b[0m\u001b[1;34m'class'\u001b[0m \u001b[1;33m:\u001b[0m \u001b[1;34m'money bacurr-money'\u001b[0m\u001b[1;33m}\u001b[0m\u001b[1;33m)\u001b[0m\u001b[1;33m\u001b[0m\u001b[1;33m\u001b[0m\u001b[0m\n\u001b[1;32m---> 12\u001b[1;33m     \u001b[0mprint\u001b[0m\u001b[1;33m(\u001b[0m\u001b[1;34m\"Prices: \"\u001b[0m\u001b[1;33m+\u001b[0m\u001b[0mprice\u001b[0m\u001b[1;33m)\u001b[0m\u001b[1;33m\u001b[0m\u001b[1;33m\u001b[0m\u001b[0m\n\u001b[0m\u001b[0;32m     13\u001b[0m \u001b[1;33m\u001b[0m\u001b[0m\n\u001b[0;32m     14\u001b[0m \u001b[1;33m\u001b[0m\u001b[0m\n",
      "\u001b[1;31mTypeError\u001b[0m: can only concatenate str (not \"NoneType\") to str"
     ]
    }
   ],
   "source": [
    "for i in div:\n",
    "    url = i.a['href']\n",
    "    url = \"https://pk.sapphireonline.pk\" + url\n",
    "    print(\"Getting URL : \" + url)\n",
    "    \n",
    "    response = requests.get(url)\n",
    "    prdPage = bs(response.text, 'html.parser')\n",
    "    \n",
    "    headings = prdPage.h1.text\n",
    "    print(\"Title: \"+headings)\n",
    "    price = prdPage.find('span', {'class' : 'money bacurr-money'})    \n",
    "    print(\"Prices: \"+price.text)\n",
    "    \n",
    "    \n",
    "#     title = i.a.text\n",
    "#     print(\"Title : \" + title)\n",
    "    \n",
    "#     price = i.find('span', {'class' : 'money'})\n",
    "#     print(\"Price : \" + price.text)\n",
    "    \n",
    "    print(\"--------------------------------------------------\")"
   ]
  },
  {
   "cell_type": "code",
   "execution_count": 10,
   "metadata": {},
   "outputs": [],
   "source": [
    "# how to get attribute of an element\n",
    "# tagname['attribute name']\n",
    "\n",
    "# How to get a single element\n",
    "# .find \n",
    "\n",
    "# How to get a list of elements\n",
    "# .find_all\n",
    "\n",
    "# How to get specific element/elements\n",
    "# .find/findall('tagName', {'attributeName' : 'attributeValue'})\n",
    "\n",
    "# How to get text from elemnet\n",
    "#.text\n",
    "# .get_text()\n",
    "\n"
   ]
  },
  {
   "cell_type": "code",
   "execution_count": 70,
   "metadata": {},
   "outputs": [
    {
     "name": "stdout",
     "output_type": "stream",
     "text": [
      "3 Piece - Embroidered Cotton Suit\n",
      "2 Piece - Embroidered Cotton Suit\n",
      "3 Piece - Embroidered Lawn Suit\n",
      "3 Piece - Embroidered Jacquard Suit\n",
      "3 Piece - Embroidered Jacquard Suit\n",
      "3 Piece - Embroidered Dobby Suit\n",
      "3 Piece - Embroidered Jacquard Suit\n",
      "3 Piece - Embroidered Jacquard Suit\n",
      "3 Piece - Embroidered Jacquard Suit\n",
      "3 Piece - Embroidered Jacquard Suit\n",
      "3 Piece - Embroidered Jacquard Suit\n",
      "3 Piece - Embroidered Jacquard Suit\n",
      "3 Piece - Embroidered Jacquard Suit\n",
      "3 Piece - Embroidered Jacquard Suit\n",
      "3 Piece - Embroidered Jacquard Suit\n",
      "3 Piece - Embroidered Jacquard Suit\n",
      "3 Piece - Embroidered Jacquard Suit\n",
      "3 Piece - Embroidered Self Jacquard Suit\n",
      "3 Piece - Embroidered Self Jacquard Suit\n",
      "3 Piece - Embroidered Self Jacquard Suit\n",
      "3 Piece - Embroidered Cotton Suit\n",
      "3 Piece - Embroidered Cotton Suit\n",
      "3 Piece - Embroidered Dobby Suit\n",
      "3 Piece - Embroidered Dobby Suit\n",
      "3 Piece - Embroidered Dobby Suit\n",
      "3 Piece - Embroidered Dobby Suit\n",
      "3 Piece - Embroidered Cotton Suit\n",
      "3 Piece - Printed Cotton Suit\n",
      "3 Piece - Embroidered Cotton Suit\n",
      "3 Piece - Embroidered Cotton Suit\n",
      "3 Piece - Embroidered Cotton Suit\n",
      "3 Piece - Embroidered Cotton Suit\n",
      "3 Piece - Embroidered Cotton Suit\n",
      "3 Piece - Embroidered Cotton Suit\n",
      "3 Piece - Embroidered Cotton Suit\n",
      "3 Piece - Embroidered Cotton Suit\n",
      "3 Piece - Embroidered Cotton Suit\n",
      "3 Piece - Embroidered Cotton Suit\n",
      "3 Piece - Embroidered Cotton Suit\n",
      "3 Piece - Embroidered Cotton Suit\n",
      "3 Piece - Embroidered Cotton Suit\n",
      "3 Piece - Embroidered Cotton Suit\n",
      "3 Piece - Embroidered Cotton Suit\n",
      "3 Piece - Embroidered Cotton Suit\n",
      "3 Piece - Embroidered Cotton Suit\n",
      "3 Piece - Embroidered Cotton Suit\n",
      "3 Piece - Embroidered Self Jacquard Suit\n",
      "3 Piece - Embroidered Cotton Suit\n",
      "2 Piece - Embroidered Cotton Suit\n",
      "2 Piece - Embroidered Cotton Suit\n",
      "2 Piece - Embroidered Cotton Suit\n",
      "2 Piece - Embroidered Cotton Suit\n",
      "2 Piece - Embroidered Cotton Suit\n",
      "2 Piece - Embroidered Cotton Suit\n",
      "2 Piece - Embroidered Cotton Suit\n",
      "Printed Cotton Shirt\n",
      "3 Piece - Printed Cotton Suit\n",
      "3 Piece - Printed Cotton Suit\n",
      "3 Piece - Printed Cotton Suit\n",
      "3 Piece - Printed Cotton Suit\n",
      "3 Piece - Printed Cotton Suit\n",
      "3 Piece - Printed Cotton Suit\n",
      "3 Piece - Printed Cotton Suit\n",
      "3 Piece - Printed Cotton Suit\n",
      "3 Piece - Printed Cotton Suit\n",
      "3 Piece - Printed Cotton Suit\n",
      "3 Piece - Printed Cotton Suit\n",
      "3 Piece - Printed Cotton Suit\n",
      "3 Piece - Printed Cotton Suit\n",
      "3 Piece - Printed Cotton Suit\n",
      "2 Piece - Printed Cotton Suit\n",
      "2 Piece - Printed Cotton Suit\n",
      "2 Piece - Printed Cotton Suit\n",
      "2 Piece - Printed Cotton Suit\n",
      "2 Piece - Printed Cotton Suit\n",
      "2 Piece - Printed Cotton Suit\n",
      "2 Piece - Printed Cotton Suit\n",
      "2 Piece - Printed Cotton Suit\n",
      "2 Piece - Printed Cotton Suit\n",
      "2 Piece - Printed Cotton Suit\n",
      "Printed Cotton Shirt\n",
      "Printed Cotton Shirt\n",
      "Printed Cotton Shirt\n",
      "Printed Cotton Shirt\n",
      "Printed Cotton Shirt\n",
      "Printed Cotton Shirt\n",
      "Printed Cotton Shirt\n",
      "Printed Cotton Shirt\n",
      "3 Piece - Embroidered Cotton Suit\n",
      "3 Piece - Embroidered Jacquard Suit\n",
      "3 Piece - Embroidered Jacquard Suit\n",
      "3 Piece - Embroidered Jacquard Suit\n",
      "3 Piece - Embroidered Jacquard Suit\n",
      "3 Piece - Embroidered Jacquard Suit\n",
      "3 Piece - Embroidered Jacquard Suit\n",
      "3 Piece - Embroidered Dobby Suit\n",
      "3 Piece - Embroidered Dobby Suit\n",
      "2 Piece - Embroidered Lawn Suit\n",
      "Lace Detail Abaya\n",
      "Graphic T-shirt\n"
     ]
    }
   ],
   "source": [
    "for i in div:\n",
    "#     print(i.a.text)\n",
    "    print(i.a.get_text())"
   ]
  },
  {
   "cell_type": "code",
   "execution_count": null,
   "metadata": {},
   "outputs": [],
   "source": []
  }
 ],
 "metadata": {
  "kernelspec": {
   "display_name": "Python 3",
   "language": "python",
   "name": "python3"
  },
  "language_info": {
   "codemirror_mode": {
    "name": "ipython",
    "version": 3
   },
   "file_extension": ".py",
   "mimetype": "text/x-python",
   "name": "python",
   "nbconvert_exporter": "python",
   "pygments_lexer": "ipython3",
   "version": "3.8.5"
  }
 },
 "nbformat": 4,
 "nbformat_minor": 5
}
