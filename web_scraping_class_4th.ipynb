{
 "cells": [
  {
   "cell_type": "markdown",
   "id": "37b1ccef",
   "metadata": {},
   "source": [
    "# Image Downloading"
   ]
  },
  {
   "cell_type": "code",
   "execution_count": 18,
   "id": "58b3f6e8",
   "metadata": {},
   "outputs": [],
   "source": [
    "import requests\n",
    "from bs4 import BeautifulSoup as bs\n",
    "from urllib.request import urlretrieve"
   ]
  },
  {
   "cell_type": "code",
   "execution_count": 21,
   "id": "0046ac90",
   "metadata": {},
   "outputs": [
    {
     "data": {
      "text/plain": [
       "('D:/Muneeba/ABC.jpg', <http.client.HTTPMessage at 0x1bb6efe2250>)"
      ]
     },
     "execution_count": 21,
     "metadata": {},
     "output_type": "execute_result"
    }
   ],
   "source": [
    "response = requests.get(\"https://pk.sapphireonline.pk/collections/new-in/products/228-2gksc-3-1\")\n",
    "soup = bs(response.text, 'html.parser')\n",
    "imgURL = soup.find(\"div\", {'data-grname' : \"not4\"})\n",
    "imgURL = \"https:\" + imgURL['data-src'] \n",
    "prdName = \"ABC\"\n",
    "urlretrieve(imgURL, 'D:/Muneeba/ABC.jpg')\n",
    "\n",
    "\n",
    "\n"
   ]
  },
  {
   "cell_type": "code",
   "execution_count": null,
   "id": "2b69fd23",
   "metadata": {},
   "outputs": [],
   "source": []
  },
  {
   "cell_type": "code",
   "execution_count": null,
   "id": "d01f54fe",
   "metadata": {},
   "outputs": [],
   "source": []
  }
 ],
 "metadata": {
  "kernelspec": {
   "display_name": "Python 3 (ipykernel)",
   "language": "python",
   "name": "python3"
  },
  "language_info": {
   "codemirror_mode": {
    "name": "ipython",
    "version": 3
   },
   "file_extension": ".py",
   "mimetype": "text/x-python",
   "name": "python",
   "nbconvert_exporter": "python",
   "pygments_lexer": "ipython3",
   "version": "3.9.7"
  }
 },
 "nbformat": 4,
 "nbformat_minor": 5
}
