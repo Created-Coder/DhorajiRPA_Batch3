{
 "cells": [
  {
   "cell_type": "code",
   "execution_count": 1,
   "id": "b9053443",
   "metadata": {},
   "outputs": [],
   "source": [
    "# Functions\n",
    "len()\n",
    "type()\n",
    "print()"
   ]
  },
  {
   "cell_type": "code",
   "execution_count": 14,
   "id": "f096f837",
   "metadata": {},
   "outputs": [],
   "source": [
    "def addNumbers():\n",
    "    num1 = 8\n",
    "    num2 = 5\n",
    "    total = num1 + num2\n",
    "    print(total)"
   ]
  },
  {
   "cell_type": "code",
   "execution_count": 15,
   "id": "a955851a",
   "metadata": {},
   "outputs": [
    {
     "name": "stdout",
     "output_type": "stream",
     "text": [
      "13\n"
     ]
    }
   ],
   "source": [
    "fullName()"
   ]
  },
  {
   "cell_type": "code",
   "execution_count": 12,
   "id": "26c9c805",
   "metadata": {},
   "outputs": [],
   "source": [
    "# Positional Arguments"
   ]
  },
  {
   "cell_type": "code",
   "execution_count": 16,
   "id": "e48f50c2",
   "metadata": {},
   "outputs": [],
   "source": [
    "def addNumbers(num1, num2):\n",
    "    total = num1 + num2\n",
    "    print(total)"
   ]
  },
  {
   "cell_type": "code",
   "execution_count": 17,
   "id": "5fc5fbc1",
   "metadata": {},
   "outputs": [
    {
     "name": "stdout",
     "output_type": "stream",
     "text": [
      "8\n"
     ]
    }
   ],
   "source": [
    "fullName(2, 6)"
   ]
  },
  {
   "cell_type": "code",
   "execution_count": 22,
   "id": "a920b7e3",
   "metadata": {},
   "outputs": [],
   "source": [
    "def addNumbers(num1, num2):\n",
    "    total = num1 - num2\n",
    "    print(total)\n",
    "\n"
   ]
  },
  {
   "cell_type": "code",
   "execution_count": 36,
   "id": "509d6298",
   "metadata": {},
   "outputs": [
    {
     "name": "stdout",
     "output_type": "stream",
     "text": [
      "-2\n"
     ]
    }
   ],
   "source": [
    "addNumbers(2, 4)"
   ]
  },
  {
   "cell_type": "code",
   "execution_count": 25,
   "id": "936d569c",
   "metadata": {},
   "outputs": [],
   "source": [
    "# keyword arguments"
   ]
  },
  {
   "cell_type": "code",
   "execution_count": 33,
   "id": "2ce0c3fb",
   "metadata": {},
   "outputs": [],
   "source": [
    "def multNumbers(num1, num2):\n",
    "    total = num1 - num2\n",
    "    print(total)"
   ]
  },
  {
   "cell_type": "code",
   "execution_count": 95,
   "id": "645464d8",
   "metadata": {},
   "outputs": [
    {
     "name": "stdout",
     "output_type": "stream",
     "text": [
      "1\n"
     ]
    }
   ],
   "source": [
    "a = multNumbers(num2 = 3, num1 = 4)"
   ]
  },
  {
   "cell_type": "code",
   "execution_count": 38,
   "id": "5e9765e5",
   "metadata": {},
   "outputs": [],
   "source": [
    "# Default Arguments"
   ]
  },
  {
   "cell_type": "code",
   "execution_count": 61,
   "id": "dadd1c4c",
   "metadata": {},
   "outputs": [],
   "source": [
    "def phone(camera, ram = 4, rom = 32):\n",
    "    print(camera)\n",
    "    print(ram)\n",
    "    print(rom)"
   ]
  },
  {
   "cell_type": "code",
   "execution_count": 63,
   "id": "e68e248f",
   "metadata": {},
   "outputs": [
    {
     "name": "stdout",
     "output_type": "stream",
     "text": [
      "8\n",
      "32\n",
      "256\n"
     ]
    }
   ],
   "source": [
    "phone(8, ram = 32, rom = 256)"
   ]
  },
  {
   "cell_type": "code",
   "execution_count": 64,
   "id": "df26cc69",
   "metadata": {},
   "outputs": [],
   "source": [
    "# Dealing with unknown arguments"
   ]
  },
  {
   "cell_type": "code",
   "execution_count": 93,
   "id": "13e65bc4",
   "metadata": {},
   "outputs": [],
   "source": [
    "def phone(camera, ram = 4, rom = 32, *others):\n",
    "    print(camera)\n",
    "    print(ram)\n",
    "    print(rom)\n",
    "    print(others)"
   ]
  },
  {
   "cell_type": "code",
   "execution_count": 94,
   "id": "a04cba11",
   "metadata": {},
   "outputs": [
    {
     "name": "stdout",
     "output_type": "stream",
     "text": [
      "8\n",
      "32\n",
      "256\n",
      "(2.4, 123, 456)\n"
     ]
    }
   ],
   "source": [
    "phone(8, 32, 256, 2.4, 123, 456)"
   ]
  },
  {
   "cell_type": "code",
   "execution_count": 98,
   "id": "8ab966f7",
   "metadata": {},
   "outputs": [],
   "source": [
    "# how to get back information from function\n",
    "\n",
    "# Return"
   ]
  },
  {
   "cell_type": "code",
   "execution_count": 99,
   "id": "024c18a0",
   "metadata": {},
   "outputs": [],
   "source": [
    "def addNum(num1, num2):\n",
    "    total = num1 + num2\n",
    "    return total"
   ]
  },
  {
   "cell_type": "code",
   "execution_count": 118,
   "id": "4ccddd9e",
   "metadata": {},
   "outputs": [],
   "source": [
    "def saySomething():\n",
    "    say = \"Hi\"\n",
    "    return say\n",
    "\n",
    "    "
   ]
  },
  {
   "cell_type": "code",
   "execution_count": 122,
   "id": "8b263ebb",
   "metadata": {},
   "outputs": [
    {
     "data": {
      "text/plain": [
       "'Hi'"
      ]
     },
     "execution_count": 122,
     "metadata": {},
     "output_type": "execute_result"
    }
   ],
   "source": [
    "saySomething()"
   ]
  },
  {
   "cell_type": "code",
   "execution_count": 125,
   "id": "dd38a10e",
   "metadata": {},
   "outputs": [
    {
     "name": "stdout",
     "output_type": "stream",
     "text": [
      "Python is fantastic\n"
     ]
    }
   ],
   "source": [
    "def myfunc():\n",
    "    global x\n",
    "    x = \"fantastic\"\n",
    "\n",
    "myfunc()\n",
    "\n",
    "print(\"Python is \" + x)"
   ]
  },
  {
   "cell_type": "code",
   "execution_count": null,
   "id": "70ccefb1",
   "metadata": {},
   "outputs": [],
   "source": []
  }
 ],
 "metadata": {
  "kernelspec": {
   "display_name": "Python 3 (ipykernel)",
   "language": "python",
   "name": "python3"
  },
  "language_info": {
   "codemirror_mode": {
    "name": "ipython",
    "version": 3
   },
   "file_extension": ".py",
   "mimetype": "text/x-python",
   "name": "python",
   "nbconvert_exporter": "python",
   "pygments_lexer": "ipython3",
   "version": "3.9.7"
  }
 },
 "nbformat": 4,
 "nbformat_minor": 5
}
