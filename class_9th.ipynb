{
 "cells": [
  {
   "cell_type": "code",
   "execution_count": 1,
   "id": "d8dab604",
   "metadata": {},
   "outputs": [],
   "source": [
    "# Functions\n",
    "len()\n",
    "type()\n",
    "print()"
   ]
  },
  {
   "cell_type": "code",
   "execution_count": 14,
   "id": "4beec0b9",
   "metadata": {},
   "outputs": [],
   "source": [
    "def addNumbers():\n",
    "    num1 = 8\n",
    "    num2 = 5\n",
    "    total = num1 + num2\n",
    "    print(total)"
   ]
  },
  {
   "cell_type": "code",
   "execution_count": 15,
   "id": "5ef7c2f5",
   "metadata": {},
   "outputs": [
    {
     "name": "stdout",
     "output_type": "stream",
     "text": [
      "13\n"
     ]
    }
   ],
   "source": [
    "fullName()"
   ]
  },
  {
   "cell_type": "code",
   "execution_count": 12,
   "id": "0cb99864",
   "metadata": {},
   "outputs": [],
   "source": [
    "# Positional Arguments"
   ]
  },
  {
   "cell_type": "code",
   "execution_count": 16,
   "id": "1b7a7db1",
   "metadata": {},
   "outputs": [],
   "source": [
    "def addNumbers(num1, num2):\n",
    "    total = num1 + num2\n",
    "    print(total)"
   ]
  },
  {
   "cell_type": "code",
   "execution_count": 17,
   "id": "4946551f",
   "metadata": {},
   "outputs": [
    {
     "name": "stdout",
     "output_type": "stream",
     "text": [
      "8\n"
     ]
    }
   ],
   "source": [
    "fullName(2, 6)"
   ]
  },
  {
   "cell_type": "code",
   "execution_count": 22,
   "id": "bbeb0828",
   "metadata": {},
   "outputs": [],
   "source": [
    "def addNumbers(num1, num2):\n",
    "    total = num1 - num2\n",
    "    print(total)\n",
    "\n"
   ]
  },
  {
   "cell_type": "code",
   "execution_count": 36,
   "id": "99401e05",
   "metadata": {},
   "outputs": [
    {
     "name": "stdout",
     "output_type": "stream",
     "text": [
      "-2\n"
     ]
    }
   ],
   "source": [
    "addNumbers(2, 4)"
   ]
  },
  {
   "cell_type": "code",
   "execution_count": 25,
   "id": "d05abad8",
   "metadata": {},
   "outputs": [],
   "source": [
    "# keyword arguments"
   ]
  },
  {
   "cell_type": "code",
   "execution_count": 33,
   "id": "78920cfe",
   "metadata": {},
   "outputs": [],
   "source": [
    "def multNumbers(num1, num2):\n",
    "    total = num1 - num2\n",
    "    print(total)"
   ]
  },
  {
   "cell_type": "code",
   "execution_count": 95,
   "id": "8f561711",
   "metadata": {},
   "outputs": [
    {
     "name": "stdout",
     "output_type": "stream",
     "text": [
      "1\n"
     ]
    }
   ],
   "source": [
    "a = multNumbers(num2 = 3, num1 = 4)"
   ]
  },
  {
   "cell_type": "code",
   "execution_count": 38,
   "id": "2752a948",
   "metadata": {},
   "outputs": [],
   "source": [
    "# Default Arguments"
   ]
  },
  {
   "cell_type": "code",
   "execution_count": 61,
   "id": "84d1d741",
   "metadata": {},
   "outputs": [],
   "source": [
    "def phone(camera, ram = 4, rom = 32):\n",
    "    print(camera)\n",
    "    print(ram)\n",
    "    print(rom)"
   ]
  },
  {
   "cell_type": "code",
   "execution_count": 63,
   "id": "476e33ff",
   "metadata": {},
   "outputs": [
    {
     "name": "stdout",
     "output_type": "stream",
     "text": [
      "8\n",
      "32\n",
      "256\n"
     ]
    }
   ],
   "source": [
    "phone(8, ram = 32, rom = 256)"
   ]
  },
  {
   "cell_type": "code",
   "execution_count": 64,
   "id": "8b92ac38",
   "metadata": {},
   "outputs": [],
   "source": [
    "# Dealing with unknown arguments"
   ]
  },
  {
   "cell_type": "code",
   "execution_count": 93,
   "id": "bc432371",
   "metadata": {},
   "outputs": [],
   "source": [
    "def phone(camera, ram = 4, rom = 32, *others):\n",
    "    print(camera)\n",
    "    print(ram)\n",
    "    print(rom)\n",
    "    print(others)"
   ]
  },
  {
   "cell_type": "code",
   "execution_count": 94,
   "id": "78625890",
   "metadata": {},
   "outputs": [
    {
     "name": "stdout",
     "output_type": "stream",
     "text": [
      "8\n",
      "32\n",
      "256\n",
      "(2.4, 123, 456)\n"
     ]
    }
   ],
   "source": [
    "phone(8, 32, 256, 2.4, 123, 456)"
   ]
  },
  {
   "cell_type": "code",
   "execution_count": 98,
   "id": "6a189d46",
   "metadata": {},
   "outputs": [],
   "source": [
    "# how to get back information from function\n",
    "\n",
    "# Return"
   ]
  },
  {
   "cell_type": "code",
   "execution_count": 99,
   "id": "37d596cd",
   "metadata": {},
   "outputs": [],
   "source": [
    "def addNum(num1, num2):\n",
    "    total = num1 + num2\n",
    "    return total"
   ]
  },
  {
   "cell_type": "code",
   "execution_count": 118,
   "id": "2f6a681a",
   "metadata": {},
   "outputs": [],
   "source": [
    "def saySomething():\n",
    "    say = \"Hi\"\n",
    "    return say\n",
    "\n",
    "    "
   ]
  },
  {
   "cell_type": "code",
   "execution_count": 122,
   "id": "29125832",
   "metadata": {},
   "outputs": [
    {
     "data": {
      "text/plain": [
       "'Hi'"
      ]
     },
     "execution_count": 122,
     "metadata": {},
     "output_type": "execute_result"
    }
   ],
   "source": [
    "saySomething()"
   ]
  },
  {
   "cell_type": "code",
   "execution_count": 125,
   "id": "545bdcf3",
   "metadata": {},
   "outputs": [
    {
     "name": "stdout",
     "output_type": "stream",
     "text": [
      "Python is fantastic\n"
     ]
    }
   ],
   "source": [
    "def myfunc():\n",
    "    global x\n",
    "    x = \"fantastic\"\n",
    "\n",
    "myfunc()\n",
    "\n",
    "print(\"Python is \" + x)"
   ]
  },
  {
   "cell_type": "code",
   "execution_count": null,
   "id": "5185c9a7",
   "metadata": {},
   "outputs": [],
   "source": []
  }
 ],
 "metadata": {
  "kernelspec": {
   "display_name": "Python 3 (ipykernel)",
   "language": "python",
   "name": "python3"
  },
  "language_info": {
   "codemirror_mode": {
    "name": "ipython",
    "version": 3
   },
   "file_extension": ".py",
   "mimetype": "text/x-python",
   "name": "python",
   "nbconvert_exporter": "python",
   "pygments_lexer": "ipython3",
   "version": "3.9.7"
  }
 },
 "nbformat": 4,
 "nbformat_minor": 5
}
